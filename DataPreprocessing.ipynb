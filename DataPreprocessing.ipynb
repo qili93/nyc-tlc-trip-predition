{
 "cells": [
  {
   "cell_type": "markdown",
   "metadata": {},
   "source": [
    "# Data Preprocessing"
   ]
  },
  {
   "cell_type": "code",
   "execution_count": 847,
   "metadata": {},
   "outputs": [],
   "source": [
    "import numpy as np\n",
    "import pandas as pd"
   ]
  },
  {
   "cell_type": "code",
   "execution_count": 848,
   "metadata": {},
   "outputs": [],
   "source": [
    "import os\n",
    "DATA_PATH = os.path.join(\"/home/qilibj/github/nyc-tlc-trip-predition\", \"data\")"
   ]
  },
  {
   "cell_type": "code",
   "execution_count": 849,
   "metadata": {},
   "outputs": [],
   "source": [
    "# Get days of month in 2018\n",
    "def getDaysMonth(month):\n",
    "    if month == 2: return 28\n",
    "    if month % 2 == 1: return 31\n",
    "    return 30\n",
    "\n",
    "# Get Time Bin Start of month\n",
    "def getTimeBinStart(month):\n",
    "    if month == 1: return 0\n",
    "    days = 0\n",
    "    for index in range(1, month):\n",
    "        days += getDaysMonth(index)\n",
    "    return round(((24*60)/30)*days)"
   ]
  },
  {
   "cell_type": "code",
   "execution_count": 850,
   "metadata": {},
   "outputs": [
    {
     "name": "stdout",
     "output_type": "stream",
     "text": [
      "Current Month is 5\n",
      "Days in Month is 31\n",
      "TimeBin Start is 5760\n",
      "TimeBin End is 7247\n",
      "TimeBin Number is 1488\n"
     ]
    }
   ],
   "source": [
    "DATA_MONTH = 6\n",
    "DATA_MONTH_DAYS = getDaysMonth(DATA_MONTH)\n",
    "TIME_BIN_START = getTimeBinStart(DATA_MONTH)\n",
    "TIME_BIN_NUM = round(((24*60)/30)*DATA_MONTH_DAYS)\n",
    "TIME_BIN_END = TIME_BIN_START + TIME_BIN_NUM - 1\n",
    "print(\"Current Month is {}\".format(DATA_MONTH))\n",
    "print(\"Days in Month is {}\".format(DATA_MONTH_DAYS))  \n",
    "print(\"TimeBin Start is {}\".format(TIME_BIN_START)) \n",
    "print(\"TimeBin End is {}\".format(TIME_BIN_END)) \n",
    "print(\"TimeBin Number is {}\".format(TIME_BIN_NUM)) "
   ]
  },
  {
   "cell_type": "markdown",
   "metadata": {},
   "source": [
    "### Filter LocationID in Manhattan"
   ]
  },
  {
   "cell_type": "code",
   "execution_count": 851,
   "metadata": {},
   "outputs": [
    {
     "data": {
      "text/html": [
       "<div>\n",
       "<style scoped>\n",
       "    .dataframe tbody tr th:only-of-type {\n",
       "        vertical-align: middle;\n",
       "    }\n",
       "\n",
       "    .dataframe tbody tr th {\n",
       "        vertical-align: top;\n",
       "    }\n",
       "\n",
       "    .dataframe thead th {\n",
       "        text-align: right;\n",
       "    }\n",
       "</style>\n",
       "<table border=\"1\" class=\"dataframe\">\n",
       "  <thead>\n",
       "    <tr style=\"text-align: right;\">\n",
       "      <th></th>\n",
       "      <th>LocationID</th>\n",
       "      <th>Borough</th>\n",
       "      <th>Zone</th>\n",
       "      <th>service_zone</th>\n",
       "    </tr>\n",
       "  </thead>\n",
       "  <tbody>\n",
       "    <tr>\n",
       "      <th>0</th>\n",
       "      <td>1</td>\n",
       "      <td>EWR</td>\n",
       "      <td>Newark Airport</td>\n",
       "      <td>EWR</td>\n",
       "    </tr>\n",
       "    <tr>\n",
       "      <th>1</th>\n",
       "      <td>2</td>\n",
       "      <td>Queens</td>\n",
       "      <td>Jamaica Bay</td>\n",
       "      <td>Boro Zone</td>\n",
       "    </tr>\n",
       "    <tr>\n",
       "      <th>2</th>\n",
       "      <td>3</td>\n",
       "      <td>Bronx</td>\n",
       "      <td>Allerton/Pelham Gardens</td>\n",
       "      <td>Boro Zone</td>\n",
       "    </tr>\n",
       "    <tr>\n",
       "      <th>3</th>\n",
       "      <td>4</td>\n",
       "      <td>Manhattan</td>\n",
       "      <td>Alphabet City</td>\n",
       "      <td>Yellow Zone</td>\n",
       "    </tr>\n",
       "    <tr>\n",
       "      <th>4</th>\n",
       "      <td>5</td>\n",
       "      <td>Staten Island</td>\n",
       "      <td>Arden Heights</td>\n",
       "      <td>Boro Zone</td>\n",
       "    </tr>\n",
       "  </tbody>\n",
       "</table>\n",
       "</div>"
      ],
      "text/plain": [
       "   LocationID        Borough                     Zone service_zone\n",
       "0           1            EWR           Newark Airport          EWR\n",
       "1           2         Queens              Jamaica Bay    Boro Zone\n",
       "2           3          Bronx  Allerton/Pelham Gardens    Boro Zone\n",
       "3           4      Manhattan            Alphabet City  Yellow Zone\n",
       "4           5  Staten Island            Arden Heights    Boro Zone"
      ]
     },
     "execution_count": 851,
     "metadata": {},
     "output_type": "execute_result"
    }
   ],
   "source": [
    "# load zone data\n",
    "data_zone = pd.read_csv(os.path.join(DATA_PATH, \"taxi+_zone_lookup.csv\"))\n",
    "data_zone.head()"
   ]
  },
  {
   "cell_type": "code",
   "execution_count": 852,
   "metadata": {},
   "outputs": [
    {
     "data": {
      "text/plain": [
       "Index(['LocationID', 'Borough', 'Zone', 'service_zone'], dtype='object')"
      ]
     },
     "execution_count": 852,
     "metadata": {},
     "output_type": "execute_result"
    }
   ],
   "source": [
    "data_zone.columns"
   ]
  },
  {
   "cell_type": "code",
   "execution_count": 853,
   "metadata": {},
   "outputs": [
    {
     "data": {
      "text/plain": [
       "Queens           69\n",
       "Manhattan        69\n",
       "Brooklyn         61\n",
       "Bronx            43\n",
       "Staten Island    20\n",
       "Unknown           2\n",
       "EWR               1\n",
       "Name: Borough, dtype: int64"
      ]
     },
     "execution_count": 853,
     "metadata": {},
     "output_type": "execute_result"
    }
   ],
   "source": [
    "data_zone[\"Borough\"].value_counts()"
   ]
  },
  {
   "cell_type": "code",
   "execution_count": 854,
   "metadata": {},
   "outputs": [
    {
     "data": {
      "text/plain": [
       "69"
      ]
     },
     "execution_count": 854,
     "metadata": {},
     "output_type": "execute_result"
    }
   ],
   "source": [
    "# Filter Manhattan LocationID\n",
    "data_zone_Manhattan = data_zone[data_zone.Borough == \"Manhattan\"]\n",
    "len(data_zone_Manhattan)"
   ]
  },
  {
   "cell_type": "code",
   "execution_count": 855,
   "metadata": {},
   "outputs": [
    {
     "data": {
      "text/plain": [
       "3        4\n",
       "11      12\n",
       "12      13\n",
       "23      24\n",
       "40      41\n",
       "      ... \n",
       "245    246\n",
       "248    249\n",
       "260    261\n",
       "261    262\n",
       "262    263\n",
       "Name: LocationID, Length: 69, dtype: int64"
      ]
     },
     "execution_count": 855,
     "metadata": {},
     "output_type": "execute_result"
    }
   ],
   "source": [
    "data_zone_Manhattan[\"LocationID\"]"
   ]
  },
  {
   "cell_type": "markdown",
   "metadata": {},
   "source": [
    "### Filter PULocationID in Manhattan"
   ]
  },
  {
   "cell_type": "code",
   "execution_count": 856,
   "metadata": {},
   "outputs": [
    {
     "data": {
      "text/html": [
       "<div>\n",
       "<style scoped>\n",
       "    .dataframe tbody tr th:only-of-type {\n",
       "        vertical-align: middle;\n",
       "    }\n",
       "\n",
       "    .dataframe tbody tr th {\n",
       "        vertical-align: top;\n",
       "    }\n",
       "\n",
       "    .dataframe thead th {\n",
       "        text-align: right;\n",
       "    }\n",
       "</style>\n",
       "<table border=\"1\" class=\"dataframe\">\n",
       "  <thead>\n",
       "    <tr style=\"text-align: right;\">\n",
       "      <th></th>\n",
       "      <th>VendorID</th>\n",
       "      <th>tpep_pickup_datetime</th>\n",
       "      <th>tpep_dropoff_datetime</th>\n",
       "      <th>passenger_count</th>\n",
       "      <th>trip_distance</th>\n",
       "      <th>RatecodeID</th>\n",
       "      <th>store_and_fwd_flag</th>\n",
       "      <th>PULocationID</th>\n",
       "      <th>DOLocationID</th>\n",
       "      <th>payment_type</th>\n",
       "      <th>fare_amount</th>\n",
       "      <th>extra</th>\n",
       "      <th>mta_tax</th>\n",
       "      <th>tip_amount</th>\n",
       "      <th>tolls_amount</th>\n",
       "      <th>improvement_surcharge</th>\n",
       "      <th>total_amount</th>\n",
       "    </tr>\n",
       "  </thead>\n",
       "  <tbody>\n",
       "    <tr>\n",
       "      <th>0</th>\n",
       "      <td>1</td>\n",
       "      <td>2018-05-01 00:13:56</td>\n",
       "      <td>2018-05-01 00:22:46</td>\n",
       "      <td>1</td>\n",
       "      <td>1.6</td>\n",
       "      <td>1</td>\n",
       "      <td>N</td>\n",
       "      <td>230</td>\n",
       "      <td>50</td>\n",
       "      <td>1</td>\n",
       "      <td>8.0</td>\n",
       "      <td>0.5</td>\n",
       "      <td>0.5</td>\n",
       "      <td>1.85</td>\n",
       "      <td>0.0</td>\n",
       "      <td>0.3</td>\n",
       "      <td>11.15</td>\n",
       "    </tr>\n",
       "    <tr>\n",
       "      <th>1</th>\n",
       "      <td>1</td>\n",
       "      <td>2018-05-01 00:23:26</td>\n",
       "      <td>2018-05-01 00:29:56</td>\n",
       "      <td>1</td>\n",
       "      <td>1.7</td>\n",
       "      <td>1</td>\n",
       "      <td>N</td>\n",
       "      <td>263</td>\n",
       "      <td>239</td>\n",
       "      <td>1</td>\n",
       "      <td>7.5</td>\n",
       "      <td>0.5</td>\n",
       "      <td>0.5</td>\n",
       "      <td>2.00</td>\n",
       "      <td>0.0</td>\n",
       "      <td>0.3</td>\n",
       "      <td>10.80</td>\n",
       "    </tr>\n",
       "    <tr>\n",
       "      <th>2</th>\n",
       "      <td>1</td>\n",
       "      <td>2018-05-01 00:36:23</td>\n",
       "      <td>2018-05-01 00:48:26</td>\n",
       "      <td>2</td>\n",
       "      <td>2.6</td>\n",
       "      <td>1</td>\n",
       "      <td>N</td>\n",
       "      <td>239</td>\n",
       "      <td>152</td>\n",
       "      <td>1</td>\n",
       "      <td>12.0</td>\n",
       "      <td>0.5</td>\n",
       "      <td>0.5</td>\n",
       "      <td>1.00</td>\n",
       "      <td>0.0</td>\n",
       "      <td>0.3</td>\n",
       "      <td>14.30</td>\n",
       "    </tr>\n",
       "    <tr>\n",
       "      <th>3</th>\n",
       "      <td>1</td>\n",
       "      <td>2018-05-01 00:26:12</td>\n",
       "      <td>2018-05-01 00:27:05</td>\n",
       "      <td>1</td>\n",
       "      <td>0.0</td>\n",
       "      <td>1</td>\n",
       "      <td>N</td>\n",
       "      <td>145</td>\n",
       "      <td>145</td>\n",
       "      <td>1</td>\n",
       "      <td>2.5</td>\n",
       "      <td>0.5</td>\n",
       "      <td>0.5</td>\n",
       "      <td>9.63</td>\n",
       "      <td>0.0</td>\n",
       "      <td>0.3</td>\n",
       "      <td>13.43</td>\n",
       "    </tr>\n",
       "    <tr>\n",
       "      <th>4</th>\n",
       "      <td>1</td>\n",
       "      <td>2018-05-01 00:29:51</td>\n",
       "      <td>2018-05-01 00:30:02</td>\n",
       "      <td>1</td>\n",
       "      <td>0.0</td>\n",
       "      <td>1</td>\n",
       "      <td>N</td>\n",
       "      <td>145</td>\n",
       "      <td>145</td>\n",
       "      <td>2</td>\n",
       "      <td>2.5</td>\n",
       "      <td>0.5</td>\n",
       "      <td>0.5</td>\n",
       "      <td>0.00</td>\n",
       "      <td>0.0</td>\n",
       "      <td>0.3</td>\n",
       "      <td>3.80</td>\n",
       "    </tr>\n",
       "  </tbody>\n",
       "</table>\n",
       "</div>"
      ],
      "text/plain": [
       "   VendorID tpep_pickup_datetime tpep_dropoff_datetime  passenger_count  \\\n",
       "0         1  2018-05-01 00:13:56   2018-05-01 00:22:46                1   \n",
       "1         1  2018-05-01 00:23:26   2018-05-01 00:29:56                1   \n",
       "2         1  2018-05-01 00:36:23   2018-05-01 00:48:26                2   \n",
       "3         1  2018-05-01 00:26:12   2018-05-01 00:27:05                1   \n",
       "4         1  2018-05-01 00:29:51   2018-05-01 00:30:02                1   \n",
       "\n",
       "   trip_distance  RatecodeID store_and_fwd_flag  PULocationID  DOLocationID  \\\n",
       "0            1.6           1                  N           230            50   \n",
       "1            1.7           1                  N           263           239   \n",
       "2            2.6           1                  N           239           152   \n",
       "3            0.0           1                  N           145           145   \n",
       "4            0.0           1                  N           145           145   \n",
       "\n",
       "   payment_type  fare_amount  extra  mta_tax  tip_amount  tolls_amount  \\\n",
       "0             1          8.0    0.5      0.5        1.85           0.0   \n",
       "1             1          7.5    0.5      0.5        2.00           0.0   \n",
       "2             1         12.0    0.5      0.5        1.00           0.0   \n",
       "3             1          2.5    0.5      0.5        9.63           0.0   \n",
       "4             2          2.5    0.5      0.5        0.00           0.0   \n",
       "\n",
       "   improvement_surcharge  total_amount  \n",
       "0                    0.3         11.15  \n",
       "1                    0.3         10.80  \n",
       "2                    0.3         14.30  \n",
       "3                    0.3         13.43  \n",
       "4                    0.3          3.80  "
      ]
     },
     "execution_count": 856,
     "metadata": {},
     "output_type": "execute_result"
    }
   ],
   "source": [
    "# load zone data\n",
    "fileName = \"yellow_tripdata_2018-\"+\"{0:02}\".format(DATA_MONTH)+\".csv\"\n",
    "data_trip = pd.read_csv(os.path.join(DATA_PATH, fileName))\n",
    "data_trip.head()"
   ]
  },
  {
   "cell_type": "code",
   "execution_count": 857,
   "metadata": {},
   "outputs": [
    {
     "data": {
      "text/html": [
       "<div>\n",
       "<style scoped>\n",
       "    .dataframe tbody tr th:only-of-type {\n",
       "        vertical-align: middle;\n",
       "    }\n",
       "\n",
       "    .dataframe tbody tr th {\n",
       "        vertical-align: top;\n",
       "    }\n",
       "\n",
       "    .dataframe thead th {\n",
       "        text-align: right;\n",
       "    }\n",
       "</style>\n",
       "<table border=\"1\" class=\"dataframe\">\n",
       "  <thead>\n",
       "    <tr style=\"text-align: right;\">\n",
       "      <th></th>\n",
       "      <th>VendorID</th>\n",
       "      <th>tpep_pickup_datetime</th>\n",
       "      <th>tpep_dropoff_datetime</th>\n",
       "      <th>passenger_count</th>\n",
       "      <th>trip_distance</th>\n",
       "      <th>RatecodeID</th>\n",
       "      <th>store_and_fwd_flag</th>\n",
       "      <th>PULocationID</th>\n",
       "      <th>DOLocationID</th>\n",
       "      <th>payment_type</th>\n",
       "      <th>fare_amount</th>\n",
       "      <th>extra</th>\n",
       "      <th>mta_tax</th>\n",
       "      <th>tip_amount</th>\n",
       "      <th>tolls_amount</th>\n",
       "      <th>improvement_surcharge</th>\n",
       "      <th>total_amount</th>\n",
       "    </tr>\n",
       "  </thead>\n",
       "  <tbody>\n",
       "    <tr>\n",
       "      <th>0</th>\n",
       "      <td>1</td>\n",
       "      <td>2018-05-01 00:13:56</td>\n",
       "      <td>2018-05-01 00:22:46</td>\n",
       "      <td>1</td>\n",
       "      <td>1.6</td>\n",
       "      <td>1</td>\n",
       "      <td>N</td>\n",
       "      <td>230</td>\n",
       "      <td>50</td>\n",
       "      <td>1</td>\n",
       "      <td>8.0</td>\n",
       "      <td>0.5</td>\n",
       "      <td>0.5</td>\n",
       "      <td>1.85</td>\n",
       "      <td>0.0</td>\n",
       "      <td>0.3</td>\n",
       "      <td>11.15</td>\n",
       "    </tr>\n",
       "    <tr>\n",
       "      <th>1</th>\n",
       "      <td>1</td>\n",
       "      <td>2018-05-01 00:23:26</td>\n",
       "      <td>2018-05-01 00:29:56</td>\n",
       "      <td>1</td>\n",
       "      <td>1.7</td>\n",
       "      <td>1</td>\n",
       "      <td>N</td>\n",
       "      <td>263</td>\n",
       "      <td>239</td>\n",
       "      <td>1</td>\n",
       "      <td>7.5</td>\n",
       "      <td>0.5</td>\n",
       "      <td>0.5</td>\n",
       "      <td>2.00</td>\n",
       "      <td>0.0</td>\n",
       "      <td>0.3</td>\n",
       "      <td>10.80</td>\n",
       "    </tr>\n",
       "    <tr>\n",
       "      <th>2</th>\n",
       "      <td>1</td>\n",
       "      <td>2018-05-01 00:36:23</td>\n",
       "      <td>2018-05-01 00:48:26</td>\n",
       "      <td>2</td>\n",
       "      <td>2.6</td>\n",
       "      <td>1</td>\n",
       "      <td>N</td>\n",
       "      <td>239</td>\n",
       "      <td>152</td>\n",
       "      <td>1</td>\n",
       "      <td>12.0</td>\n",
       "      <td>0.5</td>\n",
       "      <td>0.5</td>\n",
       "      <td>1.00</td>\n",
       "      <td>0.0</td>\n",
       "      <td>0.3</td>\n",
       "      <td>14.30</td>\n",
       "    </tr>\n",
       "    <tr>\n",
       "      <th>6</th>\n",
       "      <td>1</td>\n",
       "      <td>2018-05-01 00:32:59</td>\n",
       "      <td>2018-05-01 00:46:43</td>\n",
       "      <td>1</td>\n",
       "      <td>3.3</td>\n",
       "      <td>1</td>\n",
       "      <td>N</td>\n",
       "      <td>114</td>\n",
       "      <td>229</td>\n",
       "      <td>1</td>\n",
       "      <td>12.5</td>\n",
       "      <td>0.5</td>\n",
       "      <td>0.5</td>\n",
       "      <td>2.75</td>\n",
       "      <td>0.0</td>\n",
       "      <td>0.3</td>\n",
       "      <td>16.55</td>\n",
       "    </tr>\n",
       "    <tr>\n",
       "      <th>7</th>\n",
       "      <td>1</td>\n",
       "      <td>2018-05-01 00:49:13</td>\n",
       "      <td>2018-05-01 00:54:21</td>\n",
       "      <td>1</td>\n",
       "      <td>1.8</td>\n",
       "      <td>1</td>\n",
       "      <td>N</td>\n",
       "      <td>162</td>\n",
       "      <td>236</td>\n",
       "      <td>1</td>\n",
       "      <td>7.0</td>\n",
       "      <td>0.5</td>\n",
       "      <td>0.5</td>\n",
       "      <td>2.05</td>\n",
       "      <td>0.0</td>\n",
       "      <td>0.3</td>\n",
       "      <td>10.35</td>\n",
       "    </tr>\n",
       "  </tbody>\n",
       "</table>\n",
       "</div>"
      ],
      "text/plain": [
       "   VendorID tpep_pickup_datetime tpep_dropoff_datetime  passenger_count  \\\n",
       "0         1  2018-05-01 00:13:56   2018-05-01 00:22:46                1   \n",
       "1         1  2018-05-01 00:23:26   2018-05-01 00:29:56                1   \n",
       "2         1  2018-05-01 00:36:23   2018-05-01 00:48:26                2   \n",
       "6         1  2018-05-01 00:32:59   2018-05-01 00:46:43                1   \n",
       "7         1  2018-05-01 00:49:13   2018-05-01 00:54:21                1   \n",
       "\n",
       "   trip_distance  RatecodeID store_and_fwd_flag  PULocationID  DOLocationID  \\\n",
       "0            1.6           1                  N           230            50   \n",
       "1            1.7           1                  N           263           239   \n",
       "2            2.6           1                  N           239           152   \n",
       "6            3.3           1                  N           114           229   \n",
       "7            1.8           1                  N           162           236   \n",
       "\n",
       "   payment_type  fare_amount  extra  mta_tax  tip_amount  tolls_amount  \\\n",
       "0             1          8.0    0.5      0.5        1.85           0.0   \n",
       "1             1          7.5    0.5      0.5        2.00           0.0   \n",
       "2             1         12.0    0.5      0.5        1.00           0.0   \n",
       "6             1         12.5    0.5      0.5        2.75           0.0   \n",
       "7             1          7.0    0.5      0.5        2.05           0.0   \n",
       "\n",
       "   improvement_surcharge  total_amount  \n",
       "0                    0.3         11.15  \n",
       "1                    0.3         10.80  \n",
       "2                    0.3         14.30  \n",
       "6                    0.3         16.55  \n",
       "7                    0.3         10.35  "
      ]
     },
     "execution_count": 857,
     "metadata": {},
     "output_type": "execute_result"
    }
   ],
   "source": [
    "data_trip_Manhattan = data_trip[data_trip.PULocationID.isin(data_zone_Manhattan[\"LocationID\"])]\n",
    "data_trip_Manhattan.head()"
   ]
  },
  {
   "cell_type": "code",
   "execution_count": 858,
   "metadata": {
    "scrolled": true
   },
   "outputs": [
    {
     "name": "stdout",
     "output_type": "stream",
     "text": [
      "68\n",
      "All locations IDs in Manhattan is [  4  12  13  24  41  42  43  45  48  50  68  74  75  79  87  88  90 100\n",
      " 105 107 113 114 116 120 125 127 128 137 140 141 142 143 144 148 151 152\n",
      " 153 158 161 162 163 164 166 170 186 194 202 209 211 224 229 230 231 232\n",
      " 233 234 236 237 238 239 243 244 246 249 261 262 263]\n"
     ]
    }
   ],
   "source": [
    "PU_LOC_LIST = np.unique(data_trip_Manhattan[\"PULocationID\"])\n",
    "print(len(PU_LOC_LIST))\n",
    "#assert len(PU_LOC_LIST) == 67\n",
    "\n",
    "writeLocation = pd.DataFrame(PU_LOC_LIST)\n",
    "locationFilePath = os.path.join(\"/home/qilibj/github/nyc-tlc-trip-predition/clean\",\"LocationID.csv\")\n",
    "if not os.path.exists(locationFilePath):\n",
    "    writeLocation.to_csv(locationFilePath, index=False)\n",
    "\n",
    "print(\"All locations IDs in Manhattan is {}\".format(locationList))"
   ]
  },
  {
   "cell_type": "markdown",
   "metadata": {},
   "source": [
    "### Filter Based on Pickup Time"
   ]
  },
  {
   "cell_type": "code",
   "execution_count": 859,
   "metadata": {},
   "outputs": [],
   "source": [
    "from datetime import datetime\n",
    "\n",
    "def timeToUnix(t):\n",
    "    newtime = datetime.strptime(t, \"%Y-%m-%d %H:%M:%S\")\n",
    "    timestamp = datetime.timestamp(newtime)\n",
    "    return timestamp\n",
    "\n",
    "def dfWithTripTimes(df):\n",
    "    startTime = datetime.now()\n",
    "    duration = df.loc[:,[\"tpep_pickup_datetime\", \"tpep_dropoff_datetime\"]]\n",
    "    pickup_time = [timeToUnix(pkup) for pkup in duration[\"tpep_pickup_datetime\"].values]\n",
    "    dropoff_time = [timeToUnix(drpof) for drpof in duration[\"tpep_dropoff_datetime\"].values]\n",
    "    trip_duration = (np.array(dropoff_time) - np.array(pickup_time))/float(60)  #trip duration in minutes\n",
    "    \n",
    "    NewFrame = df.loc[:,['trip_distance','PULocationID','DOLocationID','total_amount','tpep_pickup_datetime']]\n",
    "    NewFrame[\"pickup_time\"] = pickup_time\n",
    "    NewFrame[\"dropoff_time\"] = dropoff_time\n",
    "    NewFrame[\"trip_duration\"] = trip_duration\n",
    "    NewFrame[\"speed\"] = (NewFrame[\"trip_distance\"]/NewFrame[\"trip_duration\"])*60\n",
    "    \n",
    "    print(\"Time taken for creation of dataframe is {}\".format(datetime.now() - startTime))\n",
    "    return NewFrame"
   ]
  },
  {
   "cell_type": "code",
   "execution_count": 860,
   "metadata": {},
   "outputs": [
    {
     "name": "stdout",
     "output_type": "stream",
     "text": [
      "Time taken for creation of dataframe is 0:07:15.602409\n"
     ]
    }
   ],
   "source": [
    "new_data_trip = dfWithTripTimes(data_trip_Manhattan)"
   ]
  },
  {
   "cell_type": "code",
   "execution_count": 861,
   "metadata": {},
   "outputs": [
    {
     "data": {
      "text/plain": [
       "8344000"
      ]
     },
     "execution_count": 861,
     "metadata": {},
     "output_type": "execute_result"
    }
   ],
   "source": [
    "monthStart = timeToUnix(\"2018-\"+\"{0:02}\".format(DATA_MONTH)+\"-01 00:00:00\")\n",
    "monthEnd = timeToUnix(\"2018-\"+\"{0:02}\".format(DATA_MONTH+1)+\"-01 00:00:00\")\n",
    "\n",
    "new_data_trip = new_data_trip[(new_data_trip.pickup_time < new_data_trip.dropoff_time)]\n",
    "new_data_trip = new_data_trip[(new_data_trip.pickup_time > monthStart) & (new_data_trip.pickup_time < monthEnd)]\n",
    "new_data_trip.shape[0]"
   ]
  },
  {
   "cell_type": "markdown",
   "metadata": {},
   "source": [
    "### Filter Based on Trip Duration\n",
    "According to NYC Taxi and Limousine Commission regulations, the maximum allowed trip duration in a 24hrs interval is 12 hrs."
   ]
  },
  {
   "cell_type": "code",
   "execution_count": 862,
   "metadata": {},
   "outputs": [],
   "source": [
    "import seaborn as sns"
   ]
  },
  {
   "cell_type": "code",
   "execution_count": 863,
   "metadata": {},
   "outputs": [
    {
     "data": {
      "image/png": "[encoded data removed]",
      "text/plain": [
       "<Figure size 720x432 with 1 Axes>"
      ]
     },
     "metadata": {
      "needs_background": "light"
     },
     "output_type": "display_data"
    }
   ],
   "source": [
    "plt.figure(figsize = (10,6))\n",
    "sns.boxplot(\"trip_duration\", data = new_data_trip, orient = \"v\")\n",
    "\n",
    "plt.tick_params(labelsize = 20)\n",
    "plt.ylabel(\"Trip Duration(minutes)\", fontsize = 20)\n",
    "plt.show()"
   ]
  },
  {
   "cell_type": "code",
   "execution_count": 864,
   "metadata": {},
   "outputs": [
    {
     "data": {
      "text/plain": [
       "8285004"
      ]
     },
     "execution_count": 864,
     "metadata": {},
     "output_type": "execute_result"
    }
   ],
   "source": [
    "# NY Authority rule the max travel is 12 hour=720min\n",
    "new_data_trip = new_data_trip[(new_data_trip.trip_duration>1) & (new_data_trip.trip_duration<720)]\n",
    "new_data_trip.shape[0]"
   ]
  },
  {
   "cell_type": "code",
   "execution_count": 865,
   "metadata": {},
   "outputs": [
    {
     "data": {
      "image/png": "[encoded data removed]",
      "text/plain": [
       "<Figure size 720x432 with 1 Axes>"
      ]
     },
     "metadata": {
      "needs_background": "light"
     },
     "output_type": "display_data"
    }
   ],
   "source": [
    "plt.figure(figsize = (10,6))\n",
    "sns.boxplot(\"trip_duration\", data = new_data_trip, orient = \"v\")\n",
    "plt.ylim(ymin = 1, ymax = 750)\n",
    "plt.tick_params(labelsize = 20)\n",
    "plt.ylabel(\"Trip Duration(minutes)\", fontsize = 20)\n",
    "plt.show()"
   ]
  },
  {
   "cell_type": "markdown",
   "metadata": {},
   "source": [
    "### Filter Based on SPEED"
   ]
  },
  {
   "cell_type": "code",
   "execution_count": 866,
   "metadata": {},
   "outputs": [
    {
     "data": {
      "image/png": "[encoded data removed]",
      "text/plain": [
       "<Figure size 720x432 with 1 Axes>"
      ]
     },
     "metadata": {
      "needs_background": "light"
     },
     "output_type": "display_data"
    }
   ],
   "source": [
    "plt.figure(figsize = (10,6))\n",
    "sns.boxplot(\"speed\", data = new_data_trip, orient = \"v\")\n",
    "\n",
    "plt.tick_params(labelsize = 20)\n",
    "plt.ylabel(\"Speed(Miles/hr) in Millions\", fontsize = 20)\n",
    "plt.show()"
   ]
  },
  {
   "cell_type": "code",
   "execution_count": 867,
   "metadata": {},
   "outputs": [],
   "source": [
    "quantile_speed = new_data_trip.speed.quantile(np.round(np.arange(0.00, 1.01, 0.01), 2))"
   ]
  },
  {
   "cell_type": "code",
   "execution_count": 868,
   "metadata": {},
   "outputs": [
    {
     "name": "stdout",
     "output_type": "stream",
     "text": [
      "0th percentile value of speed is 0.0miles/hr\n",
      "10th percentile value of speed is 5.176859504132231miles/hr\n",
      "20th percentile value of speed is 6.436233611442193miles/hr\n",
      "30th percentile value of speed is 7.461139896373057miles/hr\n",
      "40th percentile value of speed is 8.433566433566433miles/hr\n",
      "50th percentile value of speed is 9.435483870967742miles/hr\n",
      "60th percentile value of speed is 10.54242928452579miles/hr\n",
      "70th percentile value of speed is 11.868131868131869miles/hr\n",
      "80th percentile value of speed is 13.664233576642337miles/hr\n",
      "90th percentile value of speed is 16.860759493670887miles/hr\n",
      "100th percentile value of speed is 3717.8350515463912miles/hr\n"
     ]
    }
   ],
   "source": [
    "qValues = np.round(np.arange(0.00, 1.01, 0.1), 4)\n",
    "for i in qValues:\n",
    "    print(\"{}th percentile value of speed is {}miles/hr\".format(int(i*100), quantile_speed[i]))"
   ]
  },
  {
   "cell_type": "code",
   "execution_count": 869,
   "metadata": {},
   "outputs": [
    {
     "name": "stdout",
     "output_type": "stream",
     "text": [
      "91 percentile value of speed is 17.370629370629366miles/hr\n",
      "92 percentile value of speed is 17.951482479784367miles/hr\n",
      "93 percentile value of speed is 18.620689655172413miles/hr\n",
      "94 percentile value of speed is 19.40869565217391miles/hr\n",
      "95 percentile value of speed is 20.35059009460534miles/hr\n",
      "96 percentile value of speed is 21.523463957936784miles/hr\n",
      "97 percentile value of speed is 23.05990783410138miles/hr\n",
      "98 percentile value of speed is 25.186558722933228miles/hr\n",
      "99 percentile value of speed is 28.836967432408677miles/hr\n",
      "100 percentile value of speed is 3717.8350515463912miles/hr\n"
     ]
    }
   ],
   "source": [
    "qValues = np.round(np.arange(0.91, 1.01, 0.01), 3)\n",
    "for i in qValues:\n",
    "    print(\"{} percentile value of speed is {}miles/hr\".format(int(i*100), quantile_speed[i]))"
   ]
  },
  {
   "cell_type": "code",
   "execution_count": 870,
   "metadata": {},
   "outputs": [
    {
     "name": "stdout",
     "output_type": "stream",
     "text": [
      "99.91 percentile value of speed is 40.73065919714545miles/hr\n",
      "99.92 percentile value of speed is 41.21554663101015miles/hr\n",
      "99.92999999999999 percentile value of speed is 41.806451612903224miles/hr\n",
      "99.94 percentile value of speed is 42.426301991454466miles/hr\n",
      "99.95 percentile value of speed is 43.15101380818563miles/hr\n",
      "99.96000000000001 percentile value of speed is 44.04282622442941miles/hr\n",
      "99.97 percentile value of speed is 45.18660921630141miles/hr\n",
      "99.98 percentile value of speed is 46.75324625893937miles/hr\n",
      "99.99 percentile value of speed is 50.71993192059371miles/hr\n",
      "100.0 percentile value of speed is 3717.8350515463912miles/hr\n"
     ]
    }
   ],
   "source": [
    "qValues = np.round(np.arange(0.9991, 1.000, 0.0001), 4)\n",
    "quantile_speed = new_data_trip.speed.quantile(qValues)\n",
    "for i in qValues:\n",
    "    print(\"{} percentile value of speed is {}miles/hr\".format((i*100), quantile_speed[i]))"
   ]
  },
  {
   "cell_type": "code",
   "execution_count": 871,
   "metadata": {},
   "outputs": [
    {
     "data": {
      "text/plain": [
       "8276981"
      ]
     },
     "execution_count": 871,
     "metadata": {},
     "output_type": "execute_result"
    }
   ],
   "source": [
    "new_data_trip = new_data_trip[(new_data_trip.speed>0) & (new_data_trip.speed<50)]\n",
    "new_data_trip.shape[0]"
   ]
  },
  {
   "cell_type": "code",
   "execution_count": 872,
   "metadata": {},
   "outputs": [
    {
     "data": {
      "image/png": "[encoded data removed]",
      "text/plain": [
       "<Figure size 720x432 with 1 Axes>"
      ]
     },
     "metadata": {
      "needs_background": "light"
     },
     "output_type": "display_data"
    }
   ],
   "source": [
    "fig = plt.figure(figsize = (10,6))\n",
    "ax = sns.boxplot(\"speed\", data = new_data_trip, orient = \"v\")\n",
    "\n",
    "plt.tick_params(labelsize = 20)\n",
    "plt.ylabel(\"Speed(Miles/hr)\", fontsize = 20)\n",
    "plt.show()"
   ]
  },
  {
   "cell_type": "code",
   "execution_count": 873,
   "metadata": {},
   "outputs": [
    {
     "name": "stdout",
     "output_type": "stream",
     "text": [
      "Average Speed of Taxis around NYC = 10.46696763542276\n"
     ]
    }
   ],
   "source": [
    "Average_speed = sum(new_data_trip.speed)/len(new_data_trip.speed)\n",
    "print(\"Average Speed of Taxis around NYC = \"+str(Average_speed))"
   ]
  },
  {
   "cell_type": "code",
   "execution_count": 874,
   "metadata": {},
   "outputs": [
    {
     "name": "stdout",
     "output_type": "stream",
     "text": [
      "Speed of Taxis around NYC per 10 minutes = 1.7444946059037933 per 10 minutes.\n"
     ]
    }
   ],
   "source": [
    "print(\"Speed of Taxis around NYC per 10 minutes = \"+str(Average_speed/6)+\" per 10 minutes.\")"
   ]
  },
  {
   "cell_type": "markdown",
   "metadata": {},
   "source": [
    "### Filter Based on Trip Distance"
   ]
  },
  {
   "cell_type": "code",
   "execution_count": 875,
   "metadata": {},
   "outputs": [
    {
     "data": {
      "image/png": "[encoded data removed]",
      "text/plain": [
       "<Figure size 720x432 with 1 Axes>"
      ]
     },
     "metadata": {
      "needs_background": "light"
     },
     "output_type": "display_data"
    }
   ],
   "source": [
    "fig = plt.figure(figsize = (10,6))\n",
    "ax = sns.boxplot(\"trip_distance\", data = new_data_trip, orient = \"v\")\n",
    "\n",
    "plt.tick_params(labelsize = 20)\n",
    "plt.ylabel(\"Trip Distance(Miles)\", fontsize = 20)\n",
    "plt.show()"
   ]
  },
  {
   "cell_type": "code",
   "execution_count": 876,
   "metadata": {},
   "outputs": [],
   "source": [
    "quantile_tripDistance = new_data_trip.trip_distance.quantile(np.round(np.arange(0.00, 1.01, 0.01), 2))"
   ]
  },
  {
   "cell_type": "code",
   "execution_count": 877,
   "metadata": {},
   "outputs": [
    {
     "name": "stdout",
     "output_type": "stream",
     "text": [
      "0th percentile value of trip distance is 0.01miles\n",
      "10th percentile value of trip distance is 0.62miles\n",
      "20th percentile value of trip distance is 0.85miles\n",
      "30th percentile value of trip distance is 1.07miles\n",
      "40th percentile value of trip distance is 1.3miles\n",
      "50th percentile value of trip distance is 1.57miles\n",
      "60th percentile value of trip distance is 1.9miles\n",
      "70th percentile value of trip distance is 2.37miles\n",
      "80th percentile value of trip distance is 3.11miles\n",
      "90th percentile value of trip distance is 4.9miles\n",
      "100th percentile value of trip distance is 129.28miles\n"
     ]
    }
   ],
   "source": [
    "qValues = np.round(np.arange(0.00, 1.01, 0.1), 2)\n",
    "for i in qValues:\n",
    "    print(\"{}th percentile value of trip distance is {}miles\".format(int(i*100), quantile_tripDistance[i]))"
   ]
  },
  {
   "cell_type": "code",
   "execution_count": 878,
   "metadata": {},
   "outputs": [
    {
     "name": "stdout",
     "output_type": "stream",
     "text": [
      "91 percentile value of trip distance is 5.23miles\n",
      "92 percentile value of trip distance is 5.6miles\n",
      "93 percentile value of trip distance is 6.07miles\n",
      "94 percentile value of trip distance is 6.6miles\n",
      "95 percentile value of trip distance is 7.34miles\n",
      "96 percentile value of trip distance is 8.4miles\n",
      "97 percentile value of trip distance is 9.67miles\n",
      "98 percentile value of trip distance is 11.39miles\n",
      "99 percentile value of trip distance is 16.49miles\n",
      "100 percentile value of trip distance is 129.28miles\n"
     ]
    }
   ],
   "source": [
    "qValues = np.round(np.arange(0.91, 1.01, 0.01), 3)\n",
    "for i in qValues:\n",
    "    print(\"{} percentile value of trip distance is {}miles\".format(int(i*100), quantile_tripDistance[i]))"
   ]
  },
  {
   "cell_type": "code",
   "execution_count": 879,
   "metadata": {},
   "outputs": [
    {
     "name": "stdout",
     "output_type": "stream",
     "text": [
      "99.1 percentile value of trip distance is 16.8miles\n",
      "99.2 percentile value of trip distance is 17.1miles\n",
      "99.3 percentile value of trip distance is 17.37miles\n",
      "99.4 percentile value of trip distance is 17.69miles\n",
      "99.5 percentile value of trip distance is 18.05miles\n",
      "99.6 percentile value of trip distance is 18.59miles\n",
      "99.7 percentile value of trip distance is 19.3miles\n",
      "99.8 percentile value of trip distance is 20.2miles\n",
      "99.9 percentile value of trip distance is 21.66miles\n",
      "100.0 percentile value of trip distance is 129.28miles\n"
     ]
    }
   ],
   "source": [
    "quantile_tripDistance = new_data_trip.trip_distance.quantile(np.round(np.arange(0.991, 1.001, 0.001), 4))\n",
    "qValues = np.round(np.arange(0.991, 1.001, 0.001), 3)\n",
    "for i in qValues:\n",
    "    print(\"{} percentile value of trip distance is {}miles\".format((i*100), quantile_tripDistance[i]))"
   ]
  },
  {
   "cell_type": "code",
   "execution_count": 880,
   "metadata": {},
   "outputs": [
    {
     "data": {
      "text/plain": [
       "8275841"
      ]
     },
     "execution_count": 880,
     "metadata": {},
     "output_type": "execute_result"
    }
   ],
   "source": [
    "new_data_trip = new_data_trip[(new_data_trip.trip_distance>0) & (new_data_trip.trip_distance<30)]\n",
    "new_data_trip.shape[0]"
   ]
  },
  {
   "cell_type": "code",
   "execution_count": 881,
   "metadata": {},
   "outputs": [
    {
     "data": {
      "image/png": "[encoded data removed]",
      "text/plain": [
       "<Figure size 720x432 with 1 Axes>"
      ]
     },
     "metadata": {
      "needs_background": "light"
     },
     "output_type": "display_data"
    }
   ],
   "source": [
    "#plot of trip distance after removing outlier points\n",
    "fig = plt.figure(figsize = (10,6))\n",
    "ax = sns.boxplot(\"trip_distance\", data = new_data_trip, orient = \"v\")\n",
    "\n",
    "plt.tick_params(labelsize = 20)\n",
    "plt.ylabel(\"Trip Distance(Miles)\", fontsize = 20)\n",
    "plt.show()"
   ]
  },
  {
   "cell_type": "markdown",
   "metadata": {},
   "source": [
    "### Filter based on Total Fare"
   ]
  },
  {
   "cell_type": "code",
   "execution_count": 882,
   "metadata": {},
   "outputs": [
    {
     "data": {
      "image/png": "[encoded data removed]",
      "text/plain": [
       "<Figure size 720x432 with 1 Axes>"
      ]
     },
     "metadata": {
      "needs_background": "light"
     },
     "output_type": "display_data"
    }
   ],
   "source": [
    "fig = plt.figure(figsize = (10,6))\n",
    "ax = sns.boxplot(\"total_amount\", data = new_data_trip, orient = \"v\")\n",
    "\n",
    "plt.tick_params(labelsize = 20)\n",
    "plt.ylabel(\"Trip Fare\", fontsize = 20)\n",
    "plt.show()"
   ]
  },
  {
   "cell_type": "code",
   "execution_count": 883,
   "metadata": {},
   "outputs": [],
   "source": [
    "quantile_totalAmount = new_data_trip.total_amount.quantile(np.round(np.arange(0.00, 1.01, 0.01), 2))"
   ]
  },
  {
   "cell_type": "code",
   "execution_count": 884,
   "metadata": {},
   "outputs": [
    {
     "name": "stdout",
     "output_type": "stream",
     "text": [
      "0th percentile value of trip fare is -485.8\n",
      "10th percentile value of trip fare is 6.8\n",
      "20th percentile value of trip fare is 7.85\n",
      "30th percentile value of trip fare is 9.12\n",
      "40th percentile value of trip fare is 10.3\n",
      "50th percentile value of trip fare is 11.75\n",
      "60th percentile value of trip fare is 13.3\n",
      "70th percentile value of trip fare is 15.35\n",
      "80th percentile value of trip fare is 18.36\n",
      "90th percentile value of trip fare is 24.44\n",
      "100th percentile value of trip fare is 1702.8\n"
     ]
    }
   ],
   "source": [
    "qValues = np.round(np.arange(0.00, 1.01, 0.1), 2)\n",
    "for i in qValues:\n",
    "    print(\"{}th percentile value of trip fare is {}\".format(int(i*100), quantile_totalAmount[i]))"
   ]
  },
  {
   "cell_type": "code",
   "execution_count": 885,
   "metadata": {},
   "outputs": [
    {
     "name": "stdout",
     "output_type": "stream",
     "text": [
      "91 percentile value of trip fare is 25.56\n",
      "92 percentile value of trip fare is 26.76\n",
      "93 percentile value of trip fare is 28.3\n",
      "94 percentile value of trip fare is 30.07\n",
      "95 percentile value of trip fare is 32.3\n",
      "96 percentile value of trip fare is 35.8\n",
      "97 percentile value of trip fare is 41.06\n",
      "98 percentile value of trip fare is 48.94\n",
      "99 percentile value of trip fare is 63.2\n",
      "100 percentile value of trip fare is 1702.8\n"
     ]
    }
   ],
   "source": [
    "qValues = np.round(np.arange(0.91, 1.01, 0.01), 3)\n",
    "for i in qValues:\n",
    "    print(\"{} percentile value of trip fare is {}\".format(int(i*100), quantile_totalAmount[i]))"
   ]
  },
  {
   "cell_type": "code",
   "execution_count": 886,
   "metadata": {},
   "outputs": [
    {
     "name": "stdout",
     "output_type": "stream",
     "text": [
      "99.1 percentile value of trip fare is 64.17\n",
      "99.2 percentile value of trip fare is 67.03\n",
      "99.3 percentile value of trip fare is 69.66\n",
      "99.4 percentile value of trip fare is 70.27\n",
      "99.5 percentile value of trip fare is 70.27\n",
      "99.6 percentile value of trip fare is 73.2\n",
      "99.7 percentile value of trip fare is 77.32\n",
      "99.8 percentile value of trip fare is 87.9\n",
      "99.9 percentile value of trip fare is 101.32\n",
      "100.0 percentile value of trip fare is 1702.8\n"
     ]
    }
   ],
   "source": [
    "quantile_totalAmount = new_data_trip.total_amount.quantile(np.round(np.arange(0.991, 1.001, 0.001), 3))\n",
    "qValues = np.round(np.arange(0.991, 1.001, 0.001), 3)\n",
    "for i in qValues:\n",
    "    print(\"{} percentile value of trip fare is {}\".format((i*100), quantile_totalAmount[i]))"
   ]
  },
  {
   "cell_type": "code",
   "execution_count": 887,
   "metadata": {},
   "outputs": [
    {
     "data": {
      "text/plain": [
       "8263781"
      ]
     },
     "execution_count": 887,
     "metadata": {},
     "output_type": "execute_result"
    }
   ],
   "source": [
    "new_data_trip = new_data_trip[(new_data_trip.total_amount>0) & (new_data_trip.total_amount<100)]\n",
    "new_data_trip.shape[0]"
   ]
  },
  {
   "cell_type": "code",
   "execution_count": 888,
   "metadata": {},
   "outputs": [
    {
     "data": {
      "image/png": "[encoded data removed]",
      "text/plain": [
       "<Figure size 720x432 with 1 Axes>"
      ]
     },
     "metadata": {
      "needs_background": "light"
     },
     "output_type": "display_data"
    }
   ],
   "source": [
    "#plot of fare amount after removing outliers and erroneous points\n",
    "fig = plt.figure(figsize = (10,6))\n",
    "ax = sns.boxplot(\"total_amount\", data = new_data_trip, orient = \"v\")\n",
    "\n",
    "plt.tick_params(labelsize = 20)\n",
    "plt.ylabel(\"Trip Fare\", fontsize = 20)\n",
    "plt.show()"
   ]
  },
  {
   "cell_type": "markdown",
   "metadata": {},
   "source": [
    "### Fraction of points left\n",
    "After removing all the erroneous points and outlier points. Points where pickups and dropoffs are outside of NYC are also removed."
   ]
  },
  {
   "cell_type": "code",
   "execution_count": 889,
   "metadata": {},
   "outputs": [
    {
     "name": "stdout",
     "output_type": "stream",
     "text": [
      "Fraction of cleaned points 0.9896763861674928\n"
     ]
    }
   ],
   "source": [
    "print(\"Fraction of cleaned points\",str(new_data_trip.shape[0]/data_trip_Manhattan.shape[0]))"
   ]
  },
  {
   "cell_type": "code",
   "execution_count": 890,
   "metadata": {},
   "outputs": [
    {
     "name": "stdout",
     "output_type": "stream",
     "text": [
      "Total number of outliers and erroneous points removed =  86202\n"
     ]
    }
   ],
   "source": [
    "print(\"Total number of outliers and erroneous points removed = \",str(data_trip_Manhattan.shape[0] - new_data_trip.shape[0]))"
   ]
  },
  {
   "cell_type": "markdown",
   "metadata": {},
   "source": [
    "## Data Preparation"
   ]
  },
  {
   "cell_type": "code",
   "execution_count": 891,
   "metadata": {},
   "outputs": [
    {
     "data": {
      "text/plain": [
       "237    404188\n",
       "236    358844\n",
       "161    341445\n",
       "162    310473\n",
       "186    296460\n",
       "        ...  \n",
       "153       163\n",
       "128        72\n",
       "120        49\n",
       "105        12\n",
       "104         1\n",
       "Name: PULocationID, Length: 68, dtype: int64"
      ]
     },
     "execution_count": 891,
     "metadata": {},
     "output_type": "execute_result"
    }
   ],
   "source": [
    "new_data_trip[\"PULocationID\"].value_counts()"
   ]
  },
  {
   "cell_type": "markdown",
   "metadata": {},
   "source": [
    "### Time Binning"
   ]
  },
  {
   "cell_type": "code",
   "execution_count": 892,
   "metadata": {
    "scrolled": true
   },
   "outputs": [],
   "source": [
    "# Time Binning\n",
    "yearStart = timeToUnix(\"2018-01-01 00:00:00\")\n",
    "yearEnd = timeToUnix(\"2019-01-01 00:00:00\")\n",
    "def pickup_30min_bins(dataframe, month, year):\n",
    "    pickupTime = dataframe[\"pickup_time\"].values\n",
    "    unixTime = [yearStart, yearEnd]\n",
    "    unix_year = unixTime[year-2018]\n",
    "    time_30min_bin = [int((i - unix_year)/(30*60)) for i in pickupTime]\n",
    "    dataframe[\"time_bin\"] = np.array(time_30min_bin)\n",
    "    return dataframe"
   ]
  },
  {
   "cell_type": "code",
   "execution_count": 893,
   "metadata": {},
   "outputs": [
    {
     "data": {
      "text/html": [
       "<div>\n",
       "<style scoped>\n",
       "    .dataframe tbody tr th:only-of-type {\n",
       "        vertical-align: middle;\n",
       "    }\n",
       "\n",
       "    .dataframe tbody tr th {\n",
       "        vertical-align: top;\n",
       "    }\n",
       "\n",
       "    .dataframe thead th {\n",
       "        text-align: right;\n",
       "    }\n",
       "</style>\n",
       "<table border=\"1\" class=\"dataframe\">\n",
       "  <thead>\n",
       "    <tr style=\"text-align: right;\">\n",
       "      <th></th>\n",
       "      <th>trip_distance</th>\n",
       "      <th>PULocationID</th>\n",
       "      <th>DOLocationID</th>\n",
       "      <th>total_amount</th>\n",
       "      <th>tpep_pickup_datetime</th>\n",
       "      <th>pickup_time</th>\n",
       "      <th>dropoff_time</th>\n",
       "      <th>trip_duration</th>\n",
       "      <th>speed</th>\n",
       "      <th>time_bin</th>\n",
       "    </tr>\n",
       "  </thead>\n",
       "  <tbody>\n",
       "    <tr>\n",
       "      <th>0</th>\n",
       "      <td>1.6</td>\n",
       "      <td>230</td>\n",
       "      <td>50</td>\n",
       "      <td>11.15</td>\n",
       "      <td>2018-05-01 00:13:56</td>\n",
       "      <td>1.525105e+09</td>\n",
       "      <td>1.525105e+09</td>\n",
       "      <td>8.833333</td>\n",
       "      <td>10.867925</td>\n",
       "      <td>5760</td>\n",
       "    </tr>\n",
       "    <tr>\n",
       "      <th>1</th>\n",
       "      <td>1.7</td>\n",
       "      <td>263</td>\n",
       "      <td>239</td>\n",
       "      <td>10.80</td>\n",
       "      <td>2018-05-01 00:23:26</td>\n",
       "      <td>1.525105e+09</td>\n",
       "      <td>1.525106e+09</td>\n",
       "      <td>6.500000</td>\n",
       "      <td>15.692308</td>\n",
       "      <td>5760</td>\n",
       "    </tr>\n",
       "    <tr>\n",
       "      <th>2</th>\n",
       "      <td>2.6</td>\n",
       "      <td>239</td>\n",
       "      <td>152</td>\n",
       "      <td>14.30</td>\n",
       "      <td>2018-05-01 00:36:23</td>\n",
       "      <td>1.525106e+09</td>\n",
       "      <td>1.525107e+09</td>\n",
       "      <td>12.050000</td>\n",
       "      <td>12.946058</td>\n",
       "      <td>5761</td>\n",
       "    </tr>\n",
       "    <tr>\n",
       "      <th>6</th>\n",
       "      <td>3.3</td>\n",
       "      <td>114</td>\n",
       "      <td>229</td>\n",
       "      <td>16.55</td>\n",
       "      <td>2018-05-01 00:32:59</td>\n",
       "      <td>1.525106e+09</td>\n",
       "      <td>1.525107e+09</td>\n",
       "      <td>13.733333</td>\n",
       "      <td>14.417476</td>\n",
       "      <td>5761</td>\n",
       "    </tr>\n",
       "    <tr>\n",
       "      <th>7</th>\n",
       "      <td>1.8</td>\n",
       "      <td>162</td>\n",
       "      <td>236</td>\n",
       "      <td>10.35</td>\n",
       "      <td>2018-05-01 00:49:13</td>\n",
       "      <td>1.525107e+09</td>\n",
       "      <td>1.525107e+09</td>\n",
       "      <td>5.133333</td>\n",
       "      <td>21.038961</td>\n",
       "      <td>5761</td>\n",
       "    </tr>\n",
       "  </tbody>\n",
       "</table>\n",
       "</div>"
      ],
      "text/plain": [
       "   trip_distance  PULocationID  DOLocationID  total_amount  \\\n",
       "0            1.6           230            50         11.15   \n",
       "1            1.7           263           239         10.80   \n",
       "2            2.6           239           152         14.30   \n",
       "6            3.3           114           229         16.55   \n",
       "7            1.8           162           236         10.35   \n",
       "\n",
       "  tpep_pickup_datetime   pickup_time  dropoff_time  trip_duration      speed  \\\n",
       "0  2018-05-01 00:13:56  1.525105e+09  1.525105e+09       8.833333  10.867925   \n",
       "1  2018-05-01 00:23:26  1.525105e+09  1.525106e+09       6.500000  15.692308   \n",
       "2  2018-05-01 00:36:23  1.525106e+09  1.525107e+09      12.050000  12.946058   \n",
       "6  2018-05-01 00:32:59  1.525106e+09  1.525107e+09      13.733333  14.417476   \n",
       "7  2018-05-01 00:49:13  1.525107e+09  1.525107e+09       5.133333  21.038961   \n",
       "\n",
       "   time_bin  \n",
       "0      5760  \n",
       "1      5760  \n",
       "2      5761  \n",
       "6      5761  \n",
       "7      5761  "
      ]
     },
     "execution_count": 893,
     "metadata": {},
     "output_type": "execute_result"
    }
   ],
   "source": [
    "month_2018_data = pickup_30min_bins(new_data_trip, DATA_MONTH, 2018)\n",
    "month_2018_data.head()"
   ]
  },
  {
   "cell_type": "code",
   "execution_count": 894,
   "metadata": {},
   "outputs": [
    {
     "name": "stdout",
     "output_type": "stream",
     "text": [
      "Current Month is 5\n",
      "Days in Month is 31\n",
      "TimeBin Start is 5760\n",
      "TimeBin End is 7247\n",
      "TimeBin Number is 1488\n"
     ]
    }
   ],
   "source": [
    "print(\"Current Month is {}\".format(DATA_MONTH))\n",
    "print(\"Days in Month is {}\".format(DATA_MONTH_DAYS))  \n",
    "print(\"TimeBin Start is {}\".format(TIME_BIN_START)) \n",
    "print(\"TimeBin End is {}\".format(TIME_BIN_END)) \n",
    "print(\"TimeBin Number is {}\".format(TIME_BIN_NUM)) "
   ]
  },
  {
   "cell_type": "code",
   "execution_count": 895,
   "metadata": {},
   "outputs": [
    {
     "name": "stdout",
     "output_type": "stream",
     "text": [
      "5760\n",
      "7247\n",
      "There should be 1488 unique 30 minutes time bins for the month of 2018: 5\n",
      "Actual unique 30 minute time bins 1488\n"
     ]
    }
   ],
   "source": [
    "print(month_2018_data['time_bin'].min())\n",
    "print(month_2018_data['time_bin'].max())\n",
    "print(\"There should be\", round(((24*60)/30)*DATA_MONTH_DAYS) ,\"unique 30 minutes time bins for the month of 2018:\", DATA_MONTH)\n",
    "print(\"Actual unique 30 minute time bins\", str(len(np.unique(month_2018_data[\"time_bin\"]))))"
   ]
  },
  {
   "cell_type": "code",
   "execution_count": 896,
   "metadata": {},
   "outputs": [
    {
     "data": {
      "text/html": [
       "<div>\n",
       "<style scoped>\n",
       "    .dataframe tbody tr th:only-of-type {\n",
       "        vertical-align: middle;\n",
       "    }\n",
       "\n",
       "    .dataframe tbody tr th {\n",
       "        vertical-align: top;\n",
       "    }\n",
       "\n",
       "    .dataframe thead th {\n",
       "        text-align: right;\n",
       "    }\n",
       "</style>\n",
       "<table border=\"1\" class=\"dataframe\">\n",
       "  <thead>\n",
       "    <tr style=\"text-align: right;\">\n",
       "      <th></th>\n",
       "      <th></th>\n",
       "      <th>trip_distance</th>\n",
       "    </tr>\n",
       "    <tr>\n",
       "      <th>PULocationID</th>\n",
       "      <th>time_bin</th>\n",
       "      <th></th>\n",
       "    </tr>\n",
       "  </thead>\n",
       "  <tbody>\n",
       "    <tr>\n",
       "      <th rowspan=\"5\" valign=\"top\">4</th>\n",
       "      <th>5760</th>\n",
       "      <td>7</td>\n",
       "    </tr>\n",
       "    <tr>\n",
       "      <th>5761</th>\n",
       "      <td>5</td>\n",
       "    </tr>\n",
       "    <tr>\n",
       "      <th>5762</th>\n",
       "      <td>7</td>\n",
       "    </tr>\n",
       "    <tr>\n",
       "      <th>5763</th>\n",
       "      <td>1</td>\n",
       "    </tr>\n",
       "    <tr>\n",
       "      <th>5764</th>\n",
       "      <td>2</td>\n",
       "    </tr>\n",
       "  </tbody>\n",
       "</table>\n",
       "</div>"
      ],
      "text/plain": [
       "                       trip_distance\n",
       "PULocationID time_bin               \n",
       "4            5760                  7\n",
       "             5761                  5\n",
       "             5762                  7\n",
       "             5763                  1\n",
       "             5764                  2"
      ]
     },
     "execution_count": 896,
     "metadata": {},
     "output_type": "execute_result"
    }
   ],
   "source": [
    "month_2018_timeBin_groupBy = month_2018_data[[\"PULocationID\", \"time_bin\", \"trip_distance\"]].groupby(by = [\"PULocationID\", \"time_bin\"]).count()\n",
    "month_2018_timeBin_groupBy.head()"
   ]
  },
  {
   "cell_type": "markdown",
   "metadata": {},
   "source": [
    "## Data Filling with ZERO\n",
    "For some zones, the pickup number is ZERO in some time bins."
   ]
  },
  {
   "cell_type": "code",
   "execution_count": 897,
   "metadata": {},
   "outputs": [],
   "source": [
    "# get unique time bins\n",
    "def getUniqueTimeBins(month_2018_data):\n",
    "    #uniqueTimeBinLength = len(np.unique(month_2018_data[\"time_bin\"]))\n",
    "    #uniquePULoctaions = np.unique(month_2018_data[\"PULocationID\"])\n",
    "\n",
    "    unqiueTimeBins = []\n",
    "    numZERO = 0\n",
    "    for item in PU_LOC_LIST:\n",
    "        timeBins = month_2018_data.loc[(month_2018_data[\"PULocationID\"] == item), [\"time_bin\"]]\n",
    "        timeBinsUnique = np.unique(timeBins[\"time_bin\"])\n",
    "        unqiueTimeBins.append(timeBinsUnique)\n",
    "        numZERO += TIME_BIN_NUM - len(timeBinsUnique)\n",
    "        #print(\"PULocation {}, ZERO pickup {}\".format(item, (uniqueTimeBinLength - len(timeBinsUnique))))\n",
    "        #print(\"-\"*32)\n",
    "    print(\"Total ZERO number is\", numZERO)\n",
    "    \n",
    "    return unqiueTimeBins"
   ]
  },
  {
   "cell_type": "code",
   "execution_count": 898,
   "metadata": {},
   "outputs": [
    {
     "name": "stdout",
     "output_type": "stream",
     "text": [
      "Total ZERO number is 11668\n"
     ]
    }
   ],
   "source": [
    "unqiueTimeBins = getUniqueTimeBins(month_2018_data)"
   ]
  },
  {
   "cell_type": "code",
   "execution_count": 899,
   "metadata": {},
   "outputs": [],
   "source": [
    "# data filling with ZERO\n",
    "def fillingZERO(month_2018_data, unqiueTimeBins):\n",
    "    month_2018_timeBin_groupBy = month_2018_data[[\"PULocationID\", \"time_bin\", \"trip_distance\"]].groupby(by = [\"PULocationID\", \"time_bin\"]).count()\n",
    "    numberOfPickups = month_2018_timeBin_groupBy[\"trip_distance\"].values\n",
    "    #uniqueTimeBinLength = len(np.unique(month_2018_data[\"time_bin\"]))\n",
    "    #startTimeBin = month_2018_data['time_bin'].min()\n",
    "    \n",
    "    index = 0\n",
    "    month_2018_fillZero = []\n",
    "    for item in range(len(unqiueTimeBins)):\n",
    "        smoothed_bins = []\n",
    "        for t in range(TIME_BIN_NUM):\n",
    "            newtime = t + TIME_BIN_START\n",
    "            if newtime in unqiueTimeBins[item]:\n",
    "                smoothed_bins.append(numberOfPickups[index])\n",
    "                index += 1\n",
    "            else:\n",
    "                smoothed_bins.append(0)\n",
    "        month_2018_fillZero.extend(smoothed_bins)\n",
    "    \n",
    "    print(\"Total time bins number shoud equal to 67 x \", TIME_BIN_NUM, \"=\", len(month_2018_fillZero))\n",
    "    print(\"ZERO number in month_2018_fillZero is:\", month_2018_fillZero.count(0))\n",
    "    return month_2018_fillZero"
   ]
  },
  {
   "cell_type": "code",
   "execution_count": 900,
   "metadata": {},
   "outputs": [
    {
     "name": "stdout",
     "output_type": "stream",
     "text": [
      "Total time bins number shoud equal to 67 x  1488 = 101184\n",
      "ZERO number in month_2018_fillZero is: 11668\n"
     ]
    }
   ],
   "source": [
    "month_2018_fillZero = fillingZERO(month_2018_data, unqiueTimeBins)"
   ]
  },
  {
   "cell_type": "markdown",
   "metadata": {},
   "source": [
    "# Data Output to CVS File"
   ]
  },
  {
   "cell_type": "code",
   "execution_count": 901,
   "metadata": {
    "scrolled": true
   },
   "outputs": [],
   "source": [
    "# data output to CSV file\n",
    "def output2CSV(month_2018_data, month_2018_fillZero, PU_LOC_LIST, DATA_MONTH, TIME_BIN_NUM, TIME_BIN_START):    \n",
    "    startDate = datetime.strptime(\"2018-\"+\"{0:02}\".format(DATA_MONTH)+\"-01 00:00:00\", \"%Y-%m-%d %H:%M:%S\")\n",
    "\n",
    "    for index in range(len(PU_LOC_LIST)):\n",
    "        pickLocationID = \"{0:03}\".format(PU_LOC_LIST[index])\n",
    "        outputData = pd.DataFrame(columns=['PULocationID', 'PUTimeDate', 'PUTimeBin' , 'PUNum'])\n",
    "        for t in range(TIME_BIN_NUM):\n",
    "            currentDate = startDate + timedelta(minutes=30*t)\n",
    "            currentTimeBin = TIME_BIN_START + t\n",
    "            currentPickup = month_2018_fillZero[index*TIME_BIN_NUM+t]\n",
    "            outputData = outputData.append(pd.Series([pickLocationID, currentDate, currentTimeBin ,currentPickup], index=outputData.columns), ignore_index=True)\n",
    "        outputFileName = \"2018_\"+str(pickLocationID)+\"_\"+\"{0:02}\".format(DATA_MONTH)+\".csv\"\n",
    "        outputFilePath = os.path.join(\"/home/qilibj/github/nyc-tlc-trip-predition/clean\",outputFileName)\n",
    "        print(outputFilePath)\n",
    "        outputData.to_csv(outputFilePath, index=False)"
   ]
  },
  {
   "cell_type": "code",
   "execution_count": 902,
   "metadata": {},
   "outputs": [
    {
     "name": "stdout",
     "output_type": "stream",
     "text": [
      "/home/qilibj/github/nyc-tlc-trip-predition/clean/2018_004_05.csv\n",
      "/home/qilibj/github/nyc-tlc-trip-predition/clean/2018_012_05.csv\n",
      "/home/qilibj/github/nyc-tlc-trip-predition/clean/2018_013_05.csv\n",
      "/home/qilibj/github/nyc-tlc-trip-predition/clean/2018_024_05.csv\n",
      "/home/qilibj/github/nyc-tlc-trip-predition/clean/2018_041_05.csv\n",
      "/home/qilibj/github/nyc-tlc-trip-predition/clean/2018_042_05.csv\n",
      "/home/qilibj/github/nyc-tlc-trip-predition/clean/2018_043_05.csv\n",
      "/home/qilibj/github/nyc-tlc-trip-predition/clean/2018_045_05.csv\n",
      "/home/qilibj/github/nyc-tlc-trip-predition/clean/2018_048_05.csv\n",
      "/home/qilibj/github/nyc-tlc-trip-predition/clean/2018_050_05.csv\n",
      "/home/qilibj/github/nyc-tlc-trip-predition/clean/2018_068_05.csv\n",
      "/home/qilibj/github/nyc-tlc-trip-predition/clean/2018_074_05.csv\n",
      "/home/qilibj/github/nyc-tlc-trip-predition/clean/2018_075_05.csv\n",
      "/home/qilibj/github/nyc-tlc-trip-predition/clean/2018_079_05.csv\n",
      "/home/qilibj/github/nyc-tlc-trip-predition/clean/2018_087_05.csv\n",
      "/home/qilibj/github/nyc-tlc-trip-predition/clean/2018_088_05.csv\n",
      "/home/qilibj/github/nyc-tlc-trip-predition/clean/2018_090_05.csv\n",
      "/home/qilibj/github/nyc-tlc-trip-predition/clean/2018_100_05.csv\n",
      "/home/qilibj/github/nyc-tlc-trip-predition/clean/2018_104_05.csv\n",
      "/home/qilibj/github/nyc-tlc-trip-predition/clean/2018_105_05.csv\n",
      "/home/qilibj/github/nyc-tlc-trip-predition/clean/2018_107_05.csv\n",
      "/home/qilibj/github/nyc-tlc-trip-predition/clean/2018_113_05.csv\n",
      "/home/qilibj/github/nyc-tlc-trip-predition/clean/2018_114_05.csv\n",
      "/home/qilibj/github/nyc-tlc-trip-predition/clean/2018_116_05.csv\n",
      "/home/qilibj/github/nyc-tlc-trip-predition/clean/2018_120_05.csv\n",
      "/home/qilibj/github/nyc-tlc-trip-predition/clean/2018_125_05.csv\n",
      "/home/qilibj/github/nyc-tlc-trip-predition/clean/2018_127_05.csv\n",
      "/home/qilibj/github/nyc-tlc-trip-predition/clean/2018_128_05.csv\n",
      "/home/qilibj/github/nyc-tlc-trip-predition/clean/2018_137_05.csv\n",
      "/home/qilibj/github/nyc-tlc-trip-predition/clean/2018_140_05.csv\n",
      "/home/qilibj/github/nyc-tlc-trip-predition/clean/2018_141_05.csv\n",
      "/home/qilibj/github/nyc-tlc-trip-predition/clean/2018_142_05.csv\n",
      "/home/qilibj/github/nyc-tlc-trip-predition/clean/2018_143_05.csv\n",
      "/home/qilibj/github/nyc-tlc-trip-predition/clean/2018_144_05.csv\n",
      "/home/qilibj/github/nyc-tlc-trip-predition/clean/2018_148_05.csv\n",
      "/home/qilibj/github/nyc-tlc-trip-predition/clean/2018_151_05.csv\n",
      "/home/qilibj/github/nyc-tlc-trip-predition/clean/2018_152_05.csv\n",
      "/home/qilibj/github/nyc-tlc-trip-predition/clean/2018_153_05.csv\n",
      "/home/qilibj/github/nyc-tlc-trip-predition/clean/2018_158_05.csv\n",
      "/home/qilibj/github/nyc-tlc-trip-predition/clean/2018_161_05.csv\n",
      "/home/qilibj/github/nyc-tlc-trip-predition/clean/2018_162_05.csv\n",
      "/home/qilibj/github/nyc-tlc-trip-predition/clean/2018_163_05.csv\n",
      "/home/qilibj/github/nyc-tlc-trip-predition/clean/2018_164_05.csv\n",
      "/home/qilibj/github/nyc-tlc-trip-predition/clean/2018_166_05.csv\n",
      "/home/qilibj/github/nyc-tlc-trip-predition/clean/2018_170_05.csv\n",
      "/home/qilibj/github/nyc-tlc-trip-predition/clean/2018_186_05.csv\n",
      "/home/qilibj/github/nyc-tlc-trip-predition/clean/2018_194_05.csv\n",
      "/home/qilibj/github/nyc-tlc-trip-predition/clean/2018_202_05.csv\n",
      "/home/qilibj/github/nyc-tlc-trip-predition/clean/2018_209_05.csv\n",
      "/home/qilibj/github/nyc-tlc-trip-predition/clean/2018_211_05.csv\n",
      "/home/qilibj/github/nyc-tlc-trip-predition/clean/2018_224_05.csv\n",
      "/home/qilibj/github/nyc-tlc-trip-predition/clean/2018_229_05.csv\n",
      "/home/qilibj/github/nyc-tlc-trip-predition/clean/2018_230_05.csv\n",
      "/home/qilibj/github/nyc-tlc-trip-predition/clean/2018_231_05.csv\n",
      "/home/qilibj/github/nyc-tlc-trip-predition/clean/2018_232_05.csv\n",
      "/home/qilibj/github/nyc-tlc-trip-predition/clean/2018_233_05.csv\n",
      "/home/qilibj/github/nyc-tlc-trip-predition/clean/2018_234_05.csv\n",
      "/home/qilibj/github/nyc-tlc-trip-predition/clean/2018_236_05.csv\n",
      "/home/qilibj/github/nyc-tlc-trip-predition/clean/2018_237_05.csv\n",
      "/home/qilibj/github/nyc-tlc-trip-predition/clean/2018_238_05.csv\n",
      "/home/qilibj/github/nyc-tlc-trip-predition/clean/2018_239_05.csv\n",
      "/home/qilibj/github/nyc-tlc-trip-predition/clean/2018_243_05.csv\n",
      "/home/qilibj/github/nyc-tlc-trip-predition/clean/2018_244_05.csv\n",
      "/home/qilibj/github/nyc-tlc-trip-predition/clean/2018_246_05.csv\n",
      "/home/qilibj/github/nyc-tlc-trip-predition/clean/2018_249_05.csv\n",
      "/home/qilibj/github/nyc-tlc-trip-predition/clean/2018_261_05.csv\n",
      "/home/qilibj/github/nyc-tlc-trip-predition/clean/2018_262_05.csv\n",
      "/home/qilibj/github/nyc-tlc-trip-predition/clean/2018_263_05.csv\n"
     ]
    }
   ],
   "source": [
    "output2CSV(month_2018_data, month_2018_fillZero, PU_LOC_LIST, DATA_MONTH, TIME_BIN_NUM, TIME_BIN_START)"
   ]
  },
  {
   "cell_type": "code",
   "execution_count": null,
   "metadata": {},
   "outputs": [],
   "source": []
  }
 ],
 "metadata": {
  "kernelspec": {
   "display_name": "Python 3",
   "language": "python",
   "name": "python3"
  },
  "language_info": {
   "codemirror_mode": {
    "name": "ipython",
    "version": 3
   },
   "file_extension": ".py",
   "mimetype": "text/x-python",
   "name": "python",
   "nbconvert_exporter": "python",
   "pygments_lexer": "ipython3",
   "version": "3.6.9"
  }
 },
 "nbformat": 4,
 "nbformat_minor": 4
}
